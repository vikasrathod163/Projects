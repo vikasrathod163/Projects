{
 "cells": [
  {
   "cell_type": "code",
   "execution_count": 8,
   "metadata": {},
   "outputs": [],
   "source": [
    "import cv2\n",
    "import mediapipe as mp\n",
    "import util\n"
   ]
  },
  {
   "cell_type": "code",
   "execution_count": 6,
   "metadata": {},
   "outputs": [],
   "source": [
    "mpHands = mp.solutions.hands\n",
    "hands = mpHands.Hands(\n",
    "    static_image_mode = False,\n",
    "    model_complexity = 1,\n",
    "    min_detection_confidence = 0.7,\n",
    "    min_tracking_confidence = 0.7,\n",
    "    max_num_hands = 1\n",
    ")"
   ]
  },
  {
   "cell_type": "code",
   "execution_count": null,
   "metadata": {},
   "outputs": [],
   "source": [
    "def detect_gestures(frame,landmarks_list,processed):\n",
    "    if len(landmarks_list) > 2:\n",
    "        "
   ]
  },
  {
   "cell_type": "code",
   "execution_count": 10,
   "metadata": {},
   "outputs": [
    {
     "ename": "NameError",
     "evalue": "name 'detect_gestures' is not defined",
     "output_type": "error",
     "traceback": [
      "\u001b[1;31m---------------------------------------------------------------------------\u001b[0m",
      "\u001b[1;31mNameError\u001b[0m                                 Traceback (most recent call last)",
      "Cell \u001b[1;32mIn[10], line 38\u001b[0m\n\u001b[0;32m     36\u001b[0m         cv2\u001b[38;5;241m.\u001b[39mdestroyAllWindows()\n\u001b[0;32m     37\u001b[0m \u001b[38;5;28;01mif\u001b[39;00m \u001b[38;5;18m__name__\u001b[39m \u001b[38;5;241m==\u001b[39m \u001b[38;5;124m'\u001b[39m\u001b[38;5;124m__main__\u001b[39m\u001b[38;5;124m'\u001b[39m:\n\u001b[1;32m---> 38\u001b[0m     \u001b[43mmain\u001b[49m\u001b[43m(\u001b[49m\u001b[43m)\u001b[49m\n",
      "Cell \u001b[1;32mIn[10], line 26\u001b[0m, in \u001b[0;36mmain\u001b[1;34m()\u001b[0m\n\u001b[0;32m     23\u001b[0m     \u001b[38;5;28;01mfor\u001b[39;00m lm \u001b[38;5;129;01min\u001b[39;00m hand_landmarks\u001b[38;5;241m.\u001b[39mlandmark:\n\u001b[0;32m     24\u001b[0m         landmarks_list\u001b[38;5;241m.\u001b[39mappend((lm\u001b[38;5;241m.\u001b[39mx,lm\u001b[38;5;241m.\u001b[39my))\n\u001b[1;32m---> 26\u001b[0m \u001b[43mdetect_gestures\u001b[49m(frame,landmarks_list,processed)\n\u001b[0;32m     29\u001b[0m     \u001b[38;5;66;03m#print(landmarks_list)\u001b[39;00m\n\u001b[0;32m     31\u001b[0m cv2\u001b[38;5;241m.\u001b[39mimshow(\u001b[38;5;124m'\u001b[39m\u001b[38;5;124mframe\u001b[39m\u001b[38;5;124m'\u001b[39m,frame)\n",
      "\u001b[1;31mNameError\u001b[0m: name 'detect_gestures' is not defined"
     ]
    }
   ],
   "source": [
    "def main():\n",
    "    cap = cv2.VideoCapture(0)\n",
    "    draw = mp.solutions.drawing_utils\n",
    "\n",
    "\n",
    "    try :\n",
    "        while cap.isOpened():\n",
    "            ret,frame = cap.read()\n",
    "\n",
    "            if not  ret:\n",
    "                break\n",
    "            frame = cv2.flip(frame,1)\n",
    "            frameRGB = cv2.cvtColor(frame,cv2.COLOR_BGR2RGB)\n",
    "\n",
    "            processed = hands.process(frameRGB)\n",
    "\n",
    "            landmarks_list = []\n",
    "\n",
    "            if processed.multi_hand_landmarks:\n",
    "                hand_landmarks = processed.multi_hand_landmarks[0]\n",
    "                draw.draw_landmarks(frame,hand_landmarks,mpHands.HAND_CONNECTIONS)\n",
    "\n",
    "                for lm in hand_landmarks.landmark:\n",
    "                    landmarks_list.append((lm.x,lm.y))\n",
    "\n",
    "            #detect_gestures(frame,landmarks_list,processed)\n",
    "            \n",
    "\n",
    "                #print(landmarks_list)\n",
    "\n",
    "            cv2.imshow('frame',frame)\n",
    "            if cv2.waitKey(1) &  0xFF == ord('q'):\n",
    "                break\n",
    "    finally:\n",
    "        cap.release()\n",
    "        cv2.destroyAllWindows()\n",
    "if __name__ == '__main__':\n",
    "    main()\n",
    "        \n",
    "    "
   ]
  },
  {
   "cell_type": "code",
   "execution_count": null,
   "metadata": {},
   "outputs": [],
   "source": []
  }
 ],
 "metadata": {
  "kernelspec": {
   "display_name": "Python 3",
   "language": "python",
   "name": "python3"
  },
  "language_info": {
   "codemirror_mode": {
    "name": "ipython",
    "version": 3
   },
   "file_extension": ".py",
   "mimetype": "text/x-python",
   "name": "python",
   "nbconvert_exporter": "python",
   "pygments_lexer": "ipython3",
   "version": "3.12.1"
  }
 },
 "nbformat": 4,
 "nbformat_minor": 2
}
